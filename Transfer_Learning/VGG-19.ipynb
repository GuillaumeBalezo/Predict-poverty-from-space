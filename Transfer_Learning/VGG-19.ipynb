{
 "cells": [
  {
   "cell_type": "markdown",
   "metadata": {
    "colab_type": "text",
    "id": "C1cPRnvIRHXB"
   },
   "source": [
    "# Transfert Learning with VGG-19"
   ]
  },
  {
   "cell_type": "markdown",
   "metadata": {
    "colab_type": "text",
    "id": "8okXwSUkQpi3"
   },
   "source": [
    "### 1. Imports"
   ]
  },
  {
   "cell_type": "code",
   "execution_count": 0,
   "metadata": {
    "colab": {},
    "colab_type": "code",
    "id": "yLQkrf0LPp6O"
   },
   "outputs": [],
   "source": [
    "import numpy as np\n",
    "import utils\n",
    "import tensorflow as tf"
   ]
  },
  {
   "cell_type": "markdown",
   "metadata": {
    "colab_type": "text",
    "id": "Zy7G3HU1Qt2p"
   },
   "source": [
    "### 2. Load satellite images & Labels"
   ]
  },
  {
   "cell_type": "code",
   "execution_count": 0,
   "metadata": {
    "colab": {},
    "colab_type": "code",
    "id": "ZrwRHYr5x0zh"
   },
   "outputs": [],
   "source": [
    "images=utils.load_images_from_zip(\"./rwanda.zip\")"
   ]
  },
  {
   "cell_type": "code",
   "execution_count": 0,
   "metadata": {
    "colab": {},
    "colab_type": "code",
    "id": "Vyxf8uD_UziH"
   },
   "outputs": [],
   "source": [
    "print(\"Il y a %d images de taille (%d,%d,%d)\" % images.shape)"
   ]
  },
  {
   "cell_type": "code",
   "execution_count": null,
   "metadata": {},
   "outputs": [],
   "source": []
  },
  {
   "cell_type": "markdown",
   "metadata": {},
   "source": [
    "### 3. Training"
   ]
  },
  {
   "cell_type": "code",
   "execution_count": 0,
   "metadata": {
    "colab": {},
    "colab_type": "code",
    "id": "JzE0v_XXP3iO"
   },
   "outputs": [],
   "source": [
    "X = tf.placeholder(tf.float32, [None, 400, 400, 3])\n",
    "Y = tf.placeholder(tf.float32, [None, 64])\n",
    "train_mode = tf.placeholder(tf.bool)"
   ]
  },
  {
   "cell_type": "code",
   "execution_count": null,
   "metadata": {},
   "outputs": [],
   "source": [
    "vgg = vgg19.Vgg19('./vgg19.npy')\n",
    "vgg.build(images, train_mode)"
   ]
  },
  {
   "cell_type": "code",
   "execution_count": null,
   "metadata": {},
   "outputs": [],
   "source": [
    "with tf.device('/cpu:0'):\n",
    "    sess = tf.Session()\n",
    "    sess.run(tf.global_variables_initializer())\n",
    "\n",
    "    cost = tf.reduce_sum((vgg.prob - true_out) ** 2)\n",
    "    train = tf.train.GradientDescentOptimizer(0.0001).minimize(cost)\n",
    "    sess.run(train, feed_dict={X: images, Y: [labels], train_mode: True})\n",
    "\n",
    "    # test save\n",
    "    #vgg.save_npy(sess, './test-save.npy')"
   ]
  },
  {
   "cell_type": "markdown",
   "metadata": {
    "colab_type": "text",
    "id": "tAtKZOpFbwN2"
   },
   "source": [
    "### A faire"
   ]
  },
  {
   "cell_type": "markdown",
   "metadata": {},
   "source": [
    "1. Quelle fonction coût utiliser ?\n",
    "2. Re-télécharger les images satellites ainsi que les labels de l'intensité lumineuse qui sont manquants\n",
    "3. Implémenter une fonction batch_sample() dans utils\n",
    "4. Assembler tous les bouts pour implémenter la descente de gradient (boucle sur le nombre d'itération etc.)\n",
    "5. Entrainer le réseau"
   ]
  }
 ],
 "metadata": {
  "accelerator": "GPU",
  "colab": {
   "collapsed_sections": [
    "wRk8uPIEta1I"
   ],
   "name": "VGG-19.ipynb",
   "provenance": [],
   "version": "0.3.2"
  },
  "kernelspec": {
   "display_name": "Python 3",
   "language": "python",
   "name": "python3"
  },
  "language_info": {
   "codemirror_mode": {
    "name": "ipython",
    "version": 3
   },
   "file_extension": ".py",
   "mimetype": "text/x-python",
   "name": "python",
   "nbconvert_exporter": "python",
   "pygments_lexer": "ipython3",
   "version": "3.6.7"
  }
 },
 "nbformat": 4,
 "nbformat_minor": 1
}
