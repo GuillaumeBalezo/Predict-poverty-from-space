{
 "cells": [
  {
   "cell_type": "markdown",
   "metadata": {},
   "source": [
    "# Data"
   ]
  },
  {
   "cell_type": "code",
   "execution_count": 32,
   "metadata": {},
   "outputs": [],
   "source": [
    "import pandas as pd\n",
    "import numpy as np\n",
    "import seaborn as sns\n",
    "import scipy\n",
    "\n",
    "from sklearn.model_selection import train_test_split"
   ]
  },
  {
   "cell_type": "code",
   "execution_count": 8,
   "metadata": {},
   "outputs": [],
   "source": [
    "df_rwanda = pd.read_csv('./data/rwanda')\n",
    "\n",
    "X = df_rwanda['mean_light']\n",
    "y = df_rwanda['wealth_index']\n",
    "\n",
    "X = np.resize(X, (X_train.shape[0], 1))\n",
    "y = np.resize(y, (y_train.shape[0], 1))\n",
    "\n",
    "X_train, X_test, y_train, y_test = train_test_split(X, y, test_size=0.20, random_state=42)"
   ]
  },
  {
   "cell_type": "markdown",
   "metadata": {},
   "source": [
    "# Parametric Regression"
   ]
  },
  {
   "cell_type": "markdown",
   "metadata": {},
   "source": [
    "## Linear Regression"
   ]
  },
  {
   "cell_type": "code",
   "execution_count": 122,
   "metadata": {},
   "outputs": [],
   "source": [
    "class LinearRegression:\n",
    "    \n",
    "    def __init__(self):\n",
    "        self.coeff = None\n",
    "        \n",
    "    def train(self, X_train, y_train):\n",
    "        intercept = np.ones((X_train.shape[0], 1))\n",
    "        X = np.append(intercept, X_train, axis=1)\n",
    "        beta = scipy.linalg.solve(np.dot(X.T, X), np.dot(X.T, y_train))\n",
    "        self.coeff = beta\n",
    "        print(\"MSE =\", np.linalg.norm(y_train - np.dot(X, self.coeff)))\n",
    "    \n",
    "    def predict(self, x_test):\n",
    "        intercept = [1.]\n",
    "        x = np.append(intercept, x_test, axis=0)\n",
    "        return np.dot(x.T, self.coeff)"
   ]
  },
  {
   "cell_type": "code",
   "execution_count": 126,
   "metadata": {},
   "outputs": [
    {
     "name": "stdout",
     "output_type": "stream",
     "text": [
      "MSE = 8.469370903109246\n",
      "Coefficients : [[-0.33056575]\n",
      " [ 0.06853734]]\n",
      "Prediction : [0.11150012]\n"
     ]
    }
   ],
   "source": [
    "estimator = LinearRegression()\n",
    "estimator.train(X_train, y_train)\n",
    "print(\"Coefficients :\", estimator.coeff)\n",
    "print(\"Prediction :\", estimator.predict(X_test[11]))"
   ]
  },
  {
   "cell_type": "markdown",
   "metadata": {},
   "source": [
    "## Ridge Regression"
   ]
  },
  {
   "cell_type": "code",
   "execution_count": 119,
   "metadata": {},
   "outputs": [],
   "source": [
    "class RidgeRegression:\n",
    "    \n",
    "    def __init__(self, gamma):\n",
    "        self.coeff = None\n",
    "        self.gamma = gamma\n",
    "        \n",
    "    def train(self, X_train, y_train):        \n",
    "        intercept = np.ones((X_train.shape[0], 1))\n",
    "        X = np.append(intercept, X_train, axis=1)\n",
    "        beta = scipy.linalg.solve(np.dot(X.T, X) + self.gamma * np.identity(X.shape[1]), np.dot(X.T, y_train))\n",
    "        #beta = np.dot(X.T, np.linalg.inv(np.dot(X, X.T) + gamma * np.identity(X.shape[0])).dot(y_train))\n",
    "        self.coeff = beta\n",
    "        print(\"MSE =\", np.linalg.norm(y_train - np.dot(X, self.coeff)))\n",
    "    \n",
    "    def predict(self, x_test):\n",
    "        intercept = [1.]\n",
    "        x = np.append(intercept, x_test, axis=0)\n",
    "        return np.dot(x.T, self.coeff)"
   ]
  },
  {
   "cell_type": "code",
   "execution_count": 136,
   "metadata": {},
   "outputs": [
    {
     "name": "stdout",
     "output_type": "stream",
     "text": [
      "MSE = 8.469370903109246\n",
      "Coefficients : [[-0.33056575]\n",
      " [ 0.06853734]]\n",
      "Prediction : [0.11150012]\n"
     ]
    }
   ],
   "source": [
    "estimator = RidgeRegression(gamma=0)\n",
    "estimator.train(X_train, y_train)\n",
    "print(\"Coefficients :\", estimator.coeff)\n",
    "print(\"Prediction :\", estimator.predict(X_test[11]))"
   ]
  },
  {
   "cell_type": "markdown",
   "metadata": {},
   "source": [
    "## Lasso Regression"
   ]
  },
  {
   "cell_type": "code",
   "execution_count": null,
   "metadata": {},
   "outputs": [],
   "source": []
  },
  {
   "cell_type": "markdown",
   "metadata": {},
   "source": [
    "## Bayesian Ridge Regression"
   ]
  },
  {
   "cell_type": "code",
   "execution_count": null,
   "metadata": {},
   "outputs": [],
   "source": []
  },
  {
   "cell_type": "markdown",
   "metadata": {},
   "source": [
    "## Gaussian Process Regression"
   ]
  },
  {
   "cell_type": "code",
   "execution_count": null,
   "metadata": {},
   "outputs": [],
   "source": []
  },
  {
   "cell_type": "markdown",
   "metadata": {},
   "source": [
    "# Nonparametric Regression"
   ]
  },
  {
   "cell_type": "markdown",
   "metadata": {},
   "source": [
    "## Geometric approaches"
   ]
  },
  {
   "cell_type": "markdown",
   "metadata": {},
   "source": [
    "### k-Nearest-Neighbors Regression"
   ]
  },
  {
   "cell_type": "code",
   "execution_count": 94,
   "metadata": {},
   "outputs": [
    {
     "name": "stdout",
     "output_type": "stream",
     "text": [
      "0.0035071999999999937 [0.01353]\n"
     ]
    }
   ],
   "source": [
    "def distance(x, y):\n",
    "    return np.linalg.norm(x - y)\n",
    "\n",
    "def predict(x_test, X_train, y_train, k):\n",
    "    distance_matrix = [distance(x_test, X_train[i]) for i in range(X_train.shape[0])]\n",
    "    idx = np.argsort(distance_matrix)[:k]\n",
    "    return np.mean(y_train[idx])\n",
    "    \n",
    "y = predict(X_test[11], X_train, y_train, 50)\n",
    "print(y, y_test[11])"
   ]
  },
  {
   "cell_type": "markdown",
   "metadata": {},
   "source": [
    "### SVR"
   ]
  },
  {
   "cell_type": "code",
   "execution_count": null,
   "metadata": {},
   "outputs": [],
   "source": []
  },
  {
   "cell_type": "markdown",
   "metadata": {},
   "source": [
    "## Projection on a functional basis"
   ]
  },
  {
   "cell_type": "markdown",
   "metadata": {},
   "source": [
    "### Polynomial basis"
   ]
  },
  {
   "cell_type": "code",
   "execution_count": null,
   "metadata": {},
   "outputs": [],
   "source": []
  },
  {
   "cell_type": "markdown",
   "metadata": {},
   "source": [
    "### Gaussian basis"
   ]
  },
  {
   "cell_type": "code",
   "execution_count": null,
   "metadata": {},
   "outputs": [],
   "source": []
  },
  {
   "cell_type": "markdown",
   "metadata": {},
   "source": [
    "## Kernel methods"
   ]
  },
  {
   "cell_type": "markdown",
   "metadata": {},
   "source": [
    "### Locally weighted linear regression"
   ]
  },
  {
   "cell_type": "code",
   "execution_count": null,
   "metadata": {},
   "outputs": [],
   "source": []
  },
  {
   "cell_type": "markdown",
   "metadata": {},
   "source": [
    "### Kernel Ridge Regresion"
   ]
  },
  {
   "cell_type": "code",
   "execution_count": null,
   "metadata": {},
   "outputs": [],
   "source": []
  },
  {
   "cell_type": "markdown",
   "metadata": {},
   "source": [
    "# Model selection"
   ]
  },
  {
   "cell_type": "code",
   "execution_count": null,
   "metadata": {},
   "outputs": [],
   "source": []
  }
 ],
 "metadata": {
  "kernelspec": {
   "display_name": "Python3.5 Predict-poverty",
   "language": "python",
   "name": "predict-poverty"
  },
  "language_info": {
   "codemirror_mode": {
    "name": "ipython",
    "version": 3
   },
   "file_extension": ".py",
   "mimetype": "text/x-python",
   "name": "python",
   "nbconvert_exporter": "python",
   "pygments_lexer": "ipython3",
   "version": "3.5.6"
  }
 },
 "nbformat": 4,
 "nbformat_minor": 2
}
