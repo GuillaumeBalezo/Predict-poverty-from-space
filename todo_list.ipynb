{
 "cells": [
  {
   "cell_type": "markdown",
   "metadata": {},
   "source": [
    "# To-do list"
   ]
  },
  {
   "cell_type": "markdown",
   "metadata": {},
   "source": [
    "Regression models :\n",
    "- implement Lasso regression\n",
    "- implement bayesian regression\n",
    "- implement SVR\n",
    "- implement splines regression\n",
    "- implement wavelets regression\n",
    "- improve RKHS regression\n",
    "- improve gaussian process regression\n",
    "- implement neural net\n",
    "\n",
    "Optimization algorithm :\n",
    "- implement SGD\n",
    "- implement AGD\n",
    "- implement CGD\n",
    "- implement Momentum\n",
    "- implement RMSProp\n",
    "- implement Adam\n",
    "- implement CMA-ES\n",
    "- implement evolution strategies for neural net parameters learning\n",
    "- implement evolution strategies for neural net hyperparameters learning\n",
    "\n",
    "Density estimation :\n",
    "- implement histogram density estimation\n",
    "- implement kernel density estimation\n",
    "\n",
    "Data :\n",
    "- download 300,000 daytime images\n",
    "\n",
    "Neural net :\n",
    "- test pretrained VGG for wealth prediction\n",
    "- retrain VGG for nightlight intensities prediction\n",
    "- retrain VGG for wealth prediction"
   ]
  },
  {
   "cell_type": "code",
   "execution_count": null,
   "metadata": {},
   "outputs": [],
   "source": []
  }
 ],
 "metadata": {
  "kernelspec": {
   "display_name": "Python3.5 Predict-poverty",
   "language": "python",
   "name": "predict-poverty"
  },
  "language_info": {
   "codemirror_mode": {
    "name": "ipython",
    "version": 3
   },
   "file_extension": ".py",
   "mimetype": "text/x-python",
   "name": "python",
   "nbconvert_exporter": "python",
   "pygments_lexer": "ipython3",
   "version": "3.5.6"
  }
 },
 "nbformat": 4,
 "nbformat_minor": 2
}
