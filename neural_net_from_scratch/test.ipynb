{
 "cells": [
  {
   "cell_type": "markdown",
   "metadata": {},
   "source": [
    "# To-do :\n",
    "- end optimizer class implementation\n",
    "- regularization term in the cost function\n",
    "- gradient check\n",
    "- softmax layer/activation function\n",
    "- activation layer\n",
    "- CONVOLUTIONAL + POOLING LAYER\n",
    "- \"Gaussian Process layer\"\n",
    "- import pretrained model's weights ?\n",
    "- blocks architecture : VGG, ResNet, Inception"
   ]
  },
  {
   "cell_type": "markdown",
   "metadata": {},
   "source": [
    "# Data"
   ]
  },
  {
   "cell_type": "code",
   "execution_count": 1,
   "metadata": {},
   "outputs": [
    {
     "name": "stdout",
     "output_type": "stream",
     "text": [
      "(2, 160)\n"
     ]
    }
   ],
   "source": [
    "import numpy as np\n",
    "from layers import Dense, Dropout, Flatten\n",
    "from models import NeuralNetwork\n",
    "from losses import CrossEntropyCost\n",
    "\n",
    "X1 = np.random.randn(100, 2) + 1\n",
    "Y1 = np.zeros((100, 1))\n",
    "\n",
    "X2 = np.random.randn(100, 2) - 1\n",
    "Y2 = np.ones((100, 1))\n",
    "\n",
    "X = np.concatenate((X1, X2))\n",
    "y = np.concatenate((Y1, Y2))\n",
    "\n",
    "from sklearn.model_selection import train_test_split\n",
    "X_train, X_test, y_train, y_test = train_test_split(X, y, test_size=0.20, random_state=42)\n",
    "\n",
    "X_train, X_test, y_train, y_test = X_train.T, X_test.T, y_train.T, y_test.T\n",
    "\n",
    "print(np.shape(X_train))"
   ]
  },
  {
   "cell_type": "markdown",
   "metadata": {},
   "source": [
    "# Model"
   ]
  },
  {
   "cell_type": "code",
   "execution_count": 4,
   "metadata": {},
   "outputs": [],
   "source": [
    "layers = []\n",
    "layers.append(Dense(128, activation='relu'))\n",
    "layers.append(Dropout(0.50))\n",
    "layers.append(Dense(64, activation='relu'))\n",
    "layers.append(Dropout(0.25))\n",
    "layers.append(Dense(32, activation='relu'))\n",
    "layers.append(Dropout(0.10))\n",
    "layers.append(Dense(16, activation='relu'))\n",
    "layers.append(Dropout(0.05))\n",
    "layers.append(Dense(1, activation='sigmoid'))\n",
    "\n",
    "model = NeuralNetwork(layers)"
   ]
  },
  {
   "cell_type": "markdown",
   "metadata": {},
   "source": [
    "# Training"
   ]
  },
  {
   "cell_type": "code",
   "execution_count": 5,
   "metadata": {},
   "outputs": [
    {
     "name": "stdout",
     "output_type": "stream",
     "text": [
      "Step : 1 / 10\n",
      "Forward pass\n",
      "Cost =  0.6931470991003871\n",
      "Backward pass\n",
      "Updating weights...\n",
      "Step : 2 / 10\n",
      "Forward pass\n",
      "Cost =  0.6931433610527488\n",
      "Backward pass\n",
      "Updating weights...\n",
      "Step : 3 / 10\n",
      "Forward pass\n",
      "Cost =  0.6931397293090542\n",
      "Backward pass\n",
      "Updating weights...\n",
      "Step : 4 / 10\n",
      "Forward pass\n",
      "Cost =  0.6931361214979586\n",
      "Backward pass\n",
      "Updating weights...\n",
      "Step : 5 / 10\n",
      "Forward pass\n",
      "Cost =  0.6931328997055151\n",
      "Backward pass\n",
      "Updating weights...\n",
      "Step : 6 / 10\n",
      "Forward pass\n",
      "Cost =  0.6931298835604316\n",
      "Backward pass\n",
      "Updating weights...\n",
      "Step : 7 / 10\n",
      "Forward pass\n",
      "Cost =  0.6931267579443079\n",
      "Backward pass\n",
      "Updating weights...\n",
      "Step : 8 / 10\n",
      "Forward pass\n",
      "Cost =  0.693124064029699\n",
      "Backward pass\n",
      "Updating weights...\n",
      "Step : 9 / 10\n",
      "Forward pass\n",
      "Cost =  0.6931213154636457\n",
      "Backward pass\n",
      "Updating weights...\n",
      "Step : 10 / 10\n",
      "Forward pass\n",
      "Cost =  0.69311844355772\n",
      "Backward pass\n",
      "Updating weights...\n"
     ]
    }
   ],
   "source": [
    "nb_epochs = 10\n",
    "learning_rate = 0.1\n",
    "cost = CrossEntropyCost()\n",
    "\n",
    "model.train(X_train, y_train, nb_epochs, learning_rate, cost)"
   ]
  },
  {
   "cell_type": "code",
   "execution_count": null,
   "metadata": {},
   "outputs": [],
   "source": []
  }
 ],
 "metadata": {
  "kernelspec": {
   "display_name": "Python3.5 Predict-poverty",
   "language": "python",
   "name": "predict-poverty"
  },
  "language_info": {
   "codemirror_mode": {
    "name": "ipython",
    "version": 3
   },
   "file_extension": ".py",
   "mimetype": "text/x-python",
   "name": "python",
   "nbconvert_exporter": "python",
   "pygments_lexer": "ipython3",
   "version": "3.5.6"
  }
 },
 "nbformat": 4,
 "nbformat_minor": 2
}
