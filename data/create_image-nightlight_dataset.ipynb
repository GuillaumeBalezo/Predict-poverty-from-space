{
 "cells": [
  {
   "cell_type": "markdown",
   "metadata": {},
   "source": [
    "L'objectif de ce notebook est de créer le dataset contenant les images satellites (1km x 1km) et l'intensité lumineuse correspondante à cette zone."
   ]
  },
  {
   "cell_type": "code",
   "execution_count": null,
   "metadata": {},
   "outputs": [],
   "source": [
    "import pandas as pd\n",
    "import numpy as np\n",
    "from simpledbf import Dbf5\n",
    "from osgeo import gdal, ogr, osr\n",
    "import seaborn as sns\n",
    "import cv2\n",
    "import urllib.request\n",
    "import matplotlib.pyplot as plt"
   ]
  },
  {
   "cell_type": "code",
   "execution_count": null,
   "metadata": {},
   "outputs": [],
   "source": [
    "folder_path = './image-nightlight_dataset'"
   ]
  },
  {
   "cell_type": "code",
   "execution_count": null,
   "metadata": {},
   "outputs": [],
   "source": [
    "df_rwanda = pd.read_csv('./uganda')\n",
    "df_rwanda = df_rwanda[['latitude', 'longitude']]\n",
    "nb_lines = df_rwanda.shape[0]\n",
    "print(nb_lines)\n",
    "df_rwanda.head()"
   ]
  },
  {
   "cell_type": "code",
   "execution_count": null,
   "metadata": {},
   "outputs": [],
   "source": [
    "night_file = './nightlights_intensities/F182010.v4d_web.stable_lights.avg_vis.tif'\n",
    "\n",
    "dataset = gdal.Open(night_file, gdal.GA_ReadOnly)\n",
    "\n",
    "print(\"Driver: {}/{}\".format(dataset.GetDriver().ShortName,\n",
    "                             dataset.GetDriver().LongName))\n",
    "print(\"Size is {} x {} x {}\".format(dataset.RasterXSize,\n",
    "                                    dataset.RasterYSize,\n",
    "                                    dataset.RasterCount))\n",
    "print(\"Projection is {}\".format(dataset.GetProjection()))\n",
    "(upper_left_x, x_size, x_rotation, upper_left_y, y_rotation, y_size) = dataset.GetGeoTransform()\n",
    "print(\"Origin = ({}, {})\".format(upper_left_x, upper_left_y))\n",
    "print(\"Pixel Size = ({}, {})\".format(x_size, y_size))\n",
    "\n",
    "band = dataset.GetRasterBand(1)\n",
    "print(\"Band Type={}\".format(gdal.GetDataTypeName(band.DataType)))\n",
    "      \n",
    "min = band.GetMinimum()\n",
    "max = band.GetMaximum()\n",
    "if not min or not max:\n",
    "    (min,max) = band.ComputeRasterMinMax(True)\n",
    "print(\"Min={:.3f}, Max={:.3f}\".format(min,max))\n",
    "\n",
    "band_array = band.ReadAsArray()\n",
    "rows, cols = np.shape(band_array)\n",
    "\n",
    "x_size = 1.0 / int(round(1 / float(x_size)))\n",
    "y_size = - x_size\n",
    "y_index = np.arange(band_array.shape[0])\n",
    "x_index = np.arange(band_array.shape[1])\n",
    "top_left_x_coords = upper_left_x + x_index * x_size\n",
    "top_left_y_coords = upper_left_y + y_index * y_size\n",
    "centroid_x_coords = top_left_x_coords + (x_size / 2)\n",
    "centroid_y_coords = top_left_y_coords + (y_size / 2)"
   ]
  },
  {
   "cell_type": "code",
   "execution_count": null,
   "metadata": {},
   "outputs": [],
   "source": [
    "def get_cell_idx(lon, lat, top_left_x_coords, top_left_y_coords):\n",
    "    lon_idx = np.where(top_left_x_coords < lon)[0][-1]\n",
    "    lat_idx = np.where(top_left_y_coords > lat)[0][-1]\n",
    "    return lon_idx, lat_idx\n",
    "\n",
    "def get_nightlight_feature(sample, band_array):\n",
    "    x, y = sample\n",
    "    lon_idx, lat_idx = get_cell_idx(x, y, top_left_x_coords, top_left_y_coords)\n",
    "    \n",
    "    # Select the 10 * 10 pixels\n",
    "    left_idx = lon_idx - 5\n",
    "    right_idx = lon_idx + 4\n",
    "    up_idx = lat_idx - 5\n",
    "    low_idx = lat_idx + 4\n",
    "    luminosity_100 = []\n",
    "    \n",
    "    for i in range(left_idx, right_idx + 1):\n",
    "        for j in range(up_idx, low_idx + 1):\n",
    "            # Get the luminosity of this pixel\n",
    "            luminosity = band_array[j, i]\n",
    "            luminosity_100.append(luminosity)\n",
    "    \n",
    "    luminosity_100 = np.asarray(luminosity_100)\n",
    "    \n",
    "    max_ = np.max(luminosity_100)\n",
    "    min_ = np.min(luminosity_100)\n",
    "    mean_ = np.mean(luminosity_100)\n",
    "    median_ = np.median(luminosity_100)\n",
    "    std_ = np.std(luminosity_100)\n",
    "    \n",
    "    return band_array[lat_idx, lon_idx]"
   ]
  },
  {
   "cell_type": "code",
   "execution_count": null,
   "metadata": {},
   "outputs": [],
   "source": [
    "ids, lats, longs = [], [], []\n",
    "\n",
    "l = 0\n",
    "for k in range(nb_lines):\n",
    "    for i in range(10):\n",
    "        for j in range(10):\n",
    "            lats.append(df_rwanda['latitude'][k] - 5 * 0.009 + i * 0.009)\n",
    "            longs.append(df_rwanda['longitude'][k] - 5 * 0.018 + j * 0.018)\n",
    "            ids.append(l)\n",
    "            l += 1"
   ]
  },
  {
   "cell_type": "code",
   "execution_count": null,
   "metadata": {},
   "outputs": [],
   "source": [
    "mean, median, std = [], [], []\n",
    "for m in range(len(lats)):\n",
    "    sample = (longs[m], lats[m])\n",
    "    m, md, st = get_nightlight_feature(sample, band_array)\n",
    "    mean.append(m)\n",
    "    median.append(md)\n",
    "    std.append(st)"
   ]
  },
  {
   "cell_type": "code",
   "execution_count": null,
   "metadata": {},
   "outputs": [],
   "source": [
    "data = {'id':ids, 'latitude':lats, 'longitude':longs, 'mean':mean, 'median':median, 'std':std}\n",
    "df = pd.DataFrame(data)"
   ]
  },
  {
   "cell_type": "code",
   "execution_count": null,
   "metadata": {},
   "outputs": [],
   "source": [
    "intensities = []\n",
    "for m in range(len(lats)):\n",
    "    sample = (longs[m], lats[m])\n",
    "    intensities.append(get_nightlight_feature(sample, band_array))\n",
    "    \n",
    "data = {'id':ids, 'latitude':lats, 'longitude':longs, 'intensity':intensities}\n",
    "df = pd.DataFrame(data)"
   ]
  },
  {
   "cell_type": "code",
   "execution_count": null,
   "metadata": {},
   "outputs": [],
   "source": [
    "df.head()"
   ]
  },
  {
   "cell_type": "code",
   "execution_count": null,
   "metadata": {},
   "outputs": [],
   "source": [
    "df.to_csv('./image-nightlight_data')"
   ]
  },
  {
   "cell_type": "code",
   "execution_count": null,
   "metadata": {},
   "outputs": [],
   "source": [
    "df = pd.read_csv('./image-nightlight_data')\n",
    "df = df[['id', 'intensity', 'latitude', 'longitude']]\n",
    "df.head()"
   ]
  },
  {
   "cell_type": "code",
   "execution_count": null,
   "metadata": {},
   "outputs": [],
   "source": [
    "api_key = \"\""
   ]
  },
  {
   "cell_type": "code",
   "execution_count": null,
   "metadata": {},
   "outputs": [],
   "source": [
    "coord = df.as_matrix()\n",
    "print(np.shape(coord))\n",
    "print(coord[0])\n",
    "n = coord.shape[0]\n",
    "print(n)"
   ]
  },
  {
   "cell_type": "code",
   "execution_count": null,
   "metadata": {},
   "outputs": [],
   "source": [
    "import time"
   ]
  },
  {
   "cell_type": "code",
   "execution_count": null,
   "metadata": {},
   "outputs": [],
   "source": [
    "for i in range(3642, n):\n",
    "    print('Step', i)\n",
    "    \n",
    "    clust, lat, long = coord[i][0], coord[i][2], coord[i][3]\n",
    "    \n",
    "    url = 'https://maps.googleapis.com/maps/api/staticmap?center='+str(lat)+','+str(long) + \\\n",
    "    '&zoom=16'+'&size=400x400'+'&maptype=satellite'+'&key='+str(api_key)\n",
    "    print(url)\n",
    "    \n",
    "    filename = './image-nightlight_dataset/' + str(clust) + '.png'\n",
    "    print(filename)\n",
    "    \n",
    "    urllib.request.urlretrieve(url, filename)\n",
    "    \n",
    "    time.sleep(0.2)"
   ]
  },
  {
   "cell_type": "code",
   "execution_count": null,
   "metadata": {},
   "outputs": [],
   "source": []
  }
 ],
 "metadata": {
  "kernelspec": {
   "display_name": "Python 3",
   "language": "python",
   "name": "python3"
  },
  "language_info": {
   "codemirror_mode": {
    "name": "ipython",
    "version": 3
   },
   "file_extension": ".py",
   "mimetype": "text/x-python",
   "name": "python",
   "nbconvert_exporter": "python",
   "pygments_lexer": "ipython3",
   "version": "3.7.3"
  }
 },
 "nbformat": 4,
 "nbformat_minor": 2
}
