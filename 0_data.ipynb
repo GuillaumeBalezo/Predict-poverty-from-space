{
 "cells": [
  {
   "cell_type": "markdown",
   "metadata": {},
   "source": [
    "# Predict poverty from space"
   ]
  },
  {
   "cell_type": "markdown",
   "metadata": {},
   "source": [
    "L'objectif de ce notebook est d'extraire et de mettre en forme les différents formats de données à notre disposition."
   ]
  },
  {
   "cell_type": "markdown",
   "metadata": {},
   "source": [
    "Nous avons notamment les sondages, contenant l'indice de richesse de plusieurs régions dans divers pays d'Afrique ainsi que les coordonnées géographiques de ces régions. Ensuite, nous possèdons une carte donnant l'intensité lumineuse de nuit de l'ensemble de la surface terrestre, à une précision de 30 secondes d'arc (~1km au niveau de l'équateur). Enfin, nous pouvons extraire les images satellites de jour des régions concernées en utilisant les coordonnées géographiques et l'API de Google Maps."
   ]
  },
  {
   "cell_type": "markdown",
   "metadata": {},
   "source": [
    "Voici l'organisation des fichiers :\n",
    "\n",
    "* LICENSE  \n",
    "* README.md\n",
    "* Gaussian_Process.ipynb\n",
    "* 0_data.ipynb\n",
    "* data/ \n",
    "    *    daytime_images/  \n",
    "    *    nightlights_intensities/  \n",
    "        * F182010.v4d_web.stable_lights.avg_vis.tif  \n",
    "    *    surveys/\n",
    "        * DHS/\n",
    "            * Rwanda_2010/\n",
    "                * RWGE61FL.dbf\n",
    "                * RWHR61FL.DTA\n",
    "            * ...\n",
    "        * LSMS-ISA/\n",
    "            * ...\n",
    "* models/\n",
    "* papers/"
   ]
  },
  {
   "cell_type": "markdown",
   "metadata": {},
   "source": [
    "## 0) Importations"
   ]
  },
  {
   "cell_type": "code",
   "execution_count": 10,
   "metadata": {},
   "outputs": [],
   "source": [
    "import pandas as pd\n",
    "import numpy as np\n",
    "from simpledbf import Dbf5\n",
    "from osgeo import gdal, ogr, osr"
   ]
  },
  {
   "cell_type": "markdown",
   "metadata": {},
   "source": [
    "## 1) Import wealth data and geographical data"
   ]
  },
  {
   "cell_type": "markdown",
   "metadata": {},
   "source": [
    "L'objectif de cette section est d'importer deux dataset : le premier correspond au résultat des sondages, avec notamment l'indice de richesse, le second correspond aux coordonnées géographiques relatives à ces sondages."
   ]
  },
  {
   "cell_type": "code",
   "execution_count": 3,
   "metadata": {},
   "outputs": [],
   "source": [
    "wealth_file = \"./data/surveys/DHS/Rwanda_2010/RWHR61FL.DTA\"\n",
    "geo_file = \"./data/surveys/DHS/Rwanda_2010/RWGE61FL.dbf\""
   ]
  },
  {
   "cell_type": "markdown",
   "metadata": {},
   "source": [
    "Le premier fichier (RWHR61FL.DTA) contient les résultats des sondages. Deux colonnes nous intéressent plus particulièrement : HV001 est un identifiant qui fait le lien avec les données géographiques et HV271 contient un indice de richesse de la région."
   ]
  },
  {
   "cell_type": "code",
   "execution_count": 4,
   "metadata": {},
   "outputs": [],
   "source": [
    "df_wealth = pd.read_stata(wealth_file)"
   ]
  },
  {
   "cell_type": "code",
   "execution_count": 5,
   "metadata": {},
   "outputs": [
    {
     "data": {
      "text/html": [
       "<div>\n",
       "<style scoped>\n",
       "    .dataframe tbody tr th:only-of-type {\n",
       "        vertical-align: middle;\n",
       "    }\n",
       "\n",
       "    .dataframe tbody tr th {\n",
       "        vertical-align: top;\n",
       "    }\n",
       "\n",
       "    .dataframe thead th {\n",
       "        text-align: right;\n",
       "    }\n",
       "</style>\n",
       "<table border=\"1\" class=\"dataframe\">\n",
       "  <thead>\n",
       "    <tr style=\"text-align: right;\">\n",
       "      <th></th>\n",
       "      <th>hv001</th>\n",
       "      <th>hv271</th>\n",
       "    </tr>\n",
       "  </thead>\n",
       "  <tbody>\n",
       "    <tr>\n",
       "      <th>0</th>\n",
       "      <td>1</td>\n",
       "      <td>-0.531405</td>\n",
       "    </tr>\n",
       "    <tr>\n",
       "      <th>1</th>\n",
       "      <td>2</td>\n",
       "      <td>-0.409830</td>\n",
       "    </tr>\n",
       "    <tr>\n",
       "      <th>2</th>\n",
       "      <td>3</td>\n",
       "      <td>-0.478115</td>\n",
       "    </tr>\n",
       "    <tr>\n",
       "      <th>3</th>\n",
       "      <td>4</td>\n",
       "      <td>-0.435960</td>\n",
       "    </tr>\n",
       "    <tr>\n",
       "      <th>4</th>\n",
       "      <td>5</td>\n",
       "      <td>-0.449480</td>\n",
       "    </tr>\n",
       "  </tbody>\n",
       "</table>\n",
       "</div>"
      ],
      "text/plain": [
       "   hv001     hv271\n",
       "0      1 -0.531405\n",
       "1      2 -0.409830\n",
       "2      3 -0.478115\n",
       "3      4 -0.435960\n",
       "4      5 -0.449480"
      ]
     },
     "execution_count": 5,
     "metadata": {},
     "output_type": "execute_result"
    }
   ],
   "source": [
    "result_wealth = df_wealth.groupby('hv001')['hv271'].median().reset_index()\n",
    "result_wealth['hv271'] /= 100000.\n",
    "result_wealth.head()"
   ]
  },
  {
   "cell_type": "markdown",
   "metadata": {},
   "source": [
    "Le second fichier contient les coordonnées géographiques des sondages. Nous nous intéressons notamment à la colonne DHSCLUST qui fait le lien avec les clusters du fichier précédent ainsi qu'aux colonnes LATNUM et LONGNUM qui nous permettront d'obtenir l'intensité lumineuse de ces zones géographiques ainsi que les images satellites de jour."
   ]
  },
  {
   "cell_type": "code",
   "execution_count": 6,
   "metadata": {},
   "outputs": [],
   "source": [
    "dbf = Dbf5(geo_file)\n",
    "df_geo = dbf.to_dataframe()"
   ]
  },
  {
   "cell_type": "code",
   "execution_count": 8,
   "metadata": {},
   "outputs": [
    {
     "name": "stderr",
     "output_type": "stream",
     "text": [
      "/home/ridouane/anaconda3/envs/Predict-poverty/lib/python3.5/site-packages/ipykernel_launcher.py:2: SettingWithCopyWarning: \n",
      "A value is trying to be set on a copy of a slice from a DataFrame.\n",
      "Try using .loc[row_indexer,col_indexer] = value instead\n",
      "\n",
      "See the caveats in the documentation: http://pandas.pydata.org/pandas-docs/stable/indexing.html#indexing-view-versus-copy\n",
      "  \n"
     ]
    },
    {
     "data": {
      "text/html": [
       "<div>\n",
       "<style scoped>\n",
       "    .dataframe tbody tr th:only-of-type {\n",
       "        vertical-align: middle;\n",
       "    }\n",
       "\n",
       "    .dataframe tbody tr th {\n",
       "        vertical-align: top;\n",
       "    }\n",
       "\n",
       "    .dataframe thead th {\n",
       "        text-align: right;\n",
       "    }\n",
       "</style>\n",
       "<table border=\"1\" class=\"dataframe\">\n",
       "  <thead>\n",
       "    <tr style=\"text-align: right;\">\n",
       "      <th></th>\n",
       "      <th>DHSCLUST</th>\n",
       "      <th>LATNUM</th>\n",
       "      <th>LONGNUM</th>\n",
       "    </tr>\n",
       "  </thead>\n",
       "  <tbody>\n",
       "    <tr>\n",
       "      <th>0</th>\n",
       "      <td>1</td>\n",
       "      <td>-2.532818</td>\n",
       "      <td>29.684726</td>\n",
       "    </tr>\n",
       "    <tr>\n",
       "      <th>1</th>\n",
       "      <td>2</td>\n",
       "      <td>-1.833858</td>\n",
       "      <td>30.310689</td>\n",
       "    </tr>\n",
       "    <tr>\n",
       "      <th>2</th>\n",
       "      <td>3</td>\n",
       "      <td>-1.888155</td>\n",
       "      <td>29.478298</td>\n",
       "    </tr>\n",
       "    <tr>\n",
       "      <th>3</th>\n",
       "      <td>4</td>\n",
       "      <td>-2.366763</td>\n",
       "      <td>30.521692</td>\n",
       "    </tr>\n",
       "    <tr>\n",
       "      <th>4</th>\n",
       "      <td>5</td>\n",
       "      <td>-2.171266</td>\n",
       "      <td>30.018541</td>\n",
       "    </tr>\n",
       "  </tbody>\n",
       "</table>\n",
       "</div>"
      ],
      "text/plain": [
       "   DHSCLUST    LATNUM    LONGNUM\n",
       "0         1 -2.532818  29.684726\n",
       "1         2 -1.833858  30.310689\n",
       "2         3 -1.888155  29.478298\n",
       "3         4 -2.366763  30.521692\n",
       "4         5 -2.171266  30.018541"
      ]
     },
     "execution_count": 8,
     "metadata": {},
     "output_type": "execute_result"
    }
   ],
   "source": [
    "result_geo = df_geo[['DHSCLUST', 'LATNUM', 'LONGNUM']]\n",
    "result_geo['DHSCLUST'] = result_geo['DHSCLUST'].astype(int)\n",
    "result_geo.head()"
   ]
  },
  {
   "cell_type": "markdown",
   "metadata": {},
   "source": [
    "## 2) Merge wealth and geographical data"
   ]
  },
  {
   "cell_type": "markdown",
   "metadata": {},
   "source": [
    "L'objectif de cette section est d'obtenir un tableau de données dans lequel on a l'indice de richesse en fonction des coordonnées géographiques."
   ]
  },
  {
   "cell_type": "code",
   "execution_count": 9,
   "metadata": {},
   "outputs": [
    {
     "data": {
      "text/html": [
       "<div>\n",
       "<style scoped>\n",
       "    .dataframe tbody tr th:only-of-type {\n",
       "        vertical-align: middle;\n",
       "    }\n",
       "\n",
       "    .dataframe tbody tr th {\n",
       "        vertical-align: top;\n",
       "    }\n",
       "\n",
       "    .dataframe thead th {\n",
       "        text-align: right;\n",
       "    }\n",
       "</style>\n",
       "<table border=\"1\" class=\"dataframe\">\n",
       "  <thead>\n",
       "    <tr style=\"text-align: right;\">\n",
       "      <th></th>\n",
       "      <th>cluster</th>\n",
       "      <th>latitude</th>\n",
       "      <th>longitude</th>\n",
       "      <th>wealth_index</th>\n",
       "    </tr>\n",
       "  </thead>\n",
       "  <tbody>\n",
       "    <tr>\n",
       "      <th>0</th>\n",
       "      <td>1</td>\n",
       "      <td>-2.532818</td>\n",
       "      <td>29.684726</td>\n",
       "      <td>-0.531405</td>\n",
       "    </tr>\n",
       "    <tr>\n",
       "      <th>1</th>\n",
       "      <td>2</td>\n",
       "      <td>-1.833858</td>\n",
       "      <td>30.310689</td>\n",
       "      <td>-0.409830</td>\n",
       "    </tr>\n",
       "    <tr>\n",
       "      <th>2</th>\n",
       "      <td>3</td>\n",
       "      <td>-1.888155</td>\n",
       "      <td>29.478298</td>\n",
       "      <td>-0.478115</td>\n",
       "    </tr>\n",
       "    <tr>\n",
       "      <th>3</th>\n",
       "      <td>4</td>\n",
       "      <td>-2.366763</td>\n",
       "      <td>30.521692</td>\n",
       "      <td>-0.435960</td>\n",
       "    </tr>\n",
       "    <tr>\n",
       "      <th>4</th>\n",
       "      <td>5</td>\n",
       "      <td>-2.171266</td>\n",
       "      <td>30.018541</td>\n",
       "      <td>-0.449480</td>\n",
       "    </tr>\n",
       "  </tbody>\n",
       "</table>\n",
       "</div>"
      ],
      "text/plain": [
       "   cluster  latitude  longitude  wealth_index\n",
       "0        1 -2.532818  29.684726     -0.531405\n",
       "1        2 -1.833858  30.310689     -0.409830\n",
       "2        3 -1.888155  29.478298     -0.478115\n",
       "3        4 -2.366763  30.521692     -0.435960\n",
       "4        5 -2.171266  30.018541     -0.449480"
      ]
     },
     "execution_count": 9,
     "metadata": {},
     "output_type": "execute_result"
    }
   ],
   "source": [
    "wealth_geo_merge = pd.merge(result_wealth, result_geo, how='inner', left_on='hv001', right_on='DHSCLUST')[['DHSCLUST', 'LATNUM', 'LONGNUM', 'hv271']]\n",
    "wealth_geo_merge = wealth_geo_merge.rename(columns={'DHSCLUST': 'cluster', 'LATNUM': 'latitude', 'LONGNUM': 'longitude', 'hv271': 'wealth_index'})\n",
    "wealth_geo_merge.head()"
   ]
  },
  {
   "cell_type": "markdown",
   "metadata": {},
   "source": [
    "## 3) Import nightlights intensities data"
   ]
  },
  {
   "cell_type": "markdown",
   "metadata": {},
   "source": [
    "L'objectif de cette section est d'importer le dataset contenant les intensités lumineuses sur l'ensemble de la surface terrestre."
   ]
  },
  {
   "cell_type": "code",
   "execution_count": 12,
   "metadata": {},
   "outputs": [],
   "source": [
    "night_file = './data/nightlights_intensities/F182010.v4d_web.stable_lights.avg_vis.tif'"
   ]
  },
  {
   "cell_type": "code",
   "execution_count": 13,
   "metadata": {},
   "outputs": [],
   "source": [
    "dataset = gdal.Open(night_file, gdal.GA_ReadOnly)"
   ]
  },
  {
   "cell_type": "code",
   "execution_count": 15,
   "metadata": {},
   "outputs": [
    {
     "name": "stdout",
     "output_type": "stream",
     "text": [
      "Driver: GTiff/GeoTIFF\n",
      "Size is 43201 x 16801 x 1\n",
      "Projection is GEOGCS[\"WGS 84\",DATUM[\"WGS_1984\",SPHEROID[\"WGS 84\",6378137,298.257223563,AUTHORITY[\"EPSG\",\"7030\"]],AUTHORITY[\"EPSG\",\"6326\"]],PRIMEM[\"Greenwich\",0],UNIT[\"degree\",0.0174532925199433],AUTHORITY[\"EPSG\",\"4326\"]]\n",
      "Origin = (-180.00416666665, 75.00416666665)\n",
      "Pixel Size = (0.0083333333, -0.0083333333)\n"
     ]
    }
   ],
   "source": [
    "print(\"Driver: {}/{}\".format(dataset.GetDriver().ShortName,\n",
    "                             dataset.GetDriver().LongName))\n",
    "print(\"Size is {} x {} x {}\".format(dataset.RasterXSize,\n",
    "                                    dataset.RasterYSize,\n",
    "                                    dataset.RasterCount))\n",
    "print(\"Projection is {}\".format(dataset.GetProjection()))\n",
    "(upper_left_x, x_size, x_rotation, upper_left_y, y_rotation, y_size) = dataset.GetGeoTransform()\n",
    "print(\"Origin = ({}, {})\".format(upper_left_x, upper_left_y))\n",
    "print(\"Pixel Size = ({}, {})\".format(x_size, y_size))"
   ]
  },
  {
   "cell_type": "code",
   "execution_count": 17,
   "metadata": {},
   "outputs": [
    {
     "name": "stdout",
     "output_type": "stream",
     "text": [
      "Band Type=Byte\n",
      "Min=0.000, Max=63.000\n"
     ]
    }
   ],
   "source": [
    "band = dataset.GetRasterBand(1)\n",
    "print(\"Band Type={}\".format(gdal.GetDataTypeName(band.DataType)))\n",
    "      \n",
    "min = band.GetMinimum()\n",
    "max = band.GetMaximum()\n",
    "if not min or not max:\n",
    "    (min,max) = band.ComputeRasterMinMax(True)\n",
    "print(\"Min={:.3f}, Max={:.3f}\".format(min,max))"
   ]
  },
  {
   "cell_type": "code",
   "execution_count": 18,
   "metadata": {},
   "outputs": [],
   "source": [
    "band_array = band.ReadAsArray()\n",
    "rows, cols = np.shape(band_array)"
   ]
  },
  {
   "cell_type": "code",
   "execution_count": 19,
   "metadata": {},
   "outputs": [],
   "source": [
    "x_size = 1.0 / int(round(1 / float(x_size)))\n",
    "y_size = - x_size\n",
    "y_index = np.arange(band_array.shape[0])\n",
    "x_index = np.arange(band_array.shape[1])\n",
    "top_left_x_coords = upper_left_x + x_index * x_size\n",
    "top_left_y_coords = upper_left_y + y_index * y_size\n",
    "centroid_x_coords = top_left_x_coords + (x_size / 2)\n",
    "centroid_y_coords = top_left_y_coords + (y_size / 2)"
   ]
  },
  {
   "cell_type": "code",
   "execution_count": 22,
   "metadata": {},
   "outputs": [],
   "source": [
    "def get_cell_idx(lon, lat, top_left_x_coords, top_left_y_coords):\n",
    "    lon_idx = np.where(top_left_x_coords < lon)[0][-1]\n",
    "    lat_idx = np.where(top_left_y_coords > lat)[0][-1]\n",
    "    return lon_idx, lat_idx\n",
    "\n",
    "def get_nightlight_feature(sample):\n",
    "    x, y = sample\n",
    "    lon_idx, lat_idx = get_cell_idx(x, y, top_left_x_coords, top_left_y_coords)\n",
    "    \n",
    "    # Select the 10 * 10 pixels\n",
    "    left_idx = lon_idx - 5\n",
    "    right_idx = lon_idx + 4\n",
    "    up_idx = lat_idx - 5\n",
    "    low_idx = lat_idx + 4\n",
    "    luminosity_100 = []\n",
    "    \n",
    "    for i in range(left_idx, right_idx + 1):\n",
    "        for j in range(up_idx, low_idx + 1):\n",
    "            # Get the luminosity of this pixel\n",
    "            luminosity = band_array[j, i]\n",
    "            luminosity_100.append(luminosity)\n",
    "    \n",
    "    luminosity_100 = np.asarray(luminosity_100)\n",
    "    \n",
    "    max_ = np.max(luminosity_100)\n",
    "    min_ = np.min(luminosity_100)\n",
    "    mean_ = np.mean(luminosity_100)\n",
    "    median_ = np.median(luminosity_100)\n",
    "    std_ = np.std(luminosity_100)\n",
    "    \n",
    "    return max_, min_, mean_, median_, std_"
   ]
  },
  {
   "cell_type": "markdown",
   "metadata": {},
   "source": [
    "On a maintenant une fonction qui prend en entrée les coordonnées géographiques de la région qui nous intéresse et donne en sortie l'intensité lumineuse de la zone de 10kms x 10kms autour de ce point. La fonction renvoie l'intensité lumineuse sous la forme : maximum, minimum, moyenne, médiane, écart-type."
   ]
  },
  {
   "cell_type": "code",
   "execution_count": 23,
   "metadata": {},
   "outputs": [
    {
     "name": "stdout",
     "output_type": "stream",
     "text": [
      "(6, 0, 0.06, 0.0, 0.5969924622639721)\n"
     ]
    }
   ],
   "source": [
    "sample = 29.684726, -2.532818\n",
    "print(get_nightlight_feature((sample)))"
   ]
  },
  {
   "cell_type": "markdown",
   "metadata": {},
   "source": [
    "## 4) Merge wealth, geographical and nightlights intensities data"
   ]
  },
  {
   "cell_type": "markdown",
   "metadata": {},
   "source": [
    "L'objectif de cette partie est d'obtenir un tableau de données dans lequel on a, pour chaque région : ses coordonnées, l'indice de richesse associé et les indices de luminosité."
   ]
  },
  {
   "cell_type": "code",
   "execution_count": 67,
   "metadata": {},
   "outputs": [],
   "source": [
    "result_light = np.zeros([492, 6])\n",
    "for index, row in wealth_geo_merge.iterrows() :\n",
    "    sample = row['latitude'], row['longitude']\n",
    "    max_, min_, mean_, median_, std_ = get_nightlight_feature(sample)\n",
    "    result_light[index] = [index+1, max_, min_, mean_, median_, std_]"
   ]
  },
  {
   "cell_type": "code",
   "execution_count": 68,
   "metadata": {},
   "outputs": [],
   "source": [
    "result_light = pd.DataFrame({'index': result_light[:,0],\n",
    "                             'max_light': result_light[:,1], \n",
    "                             'min_light': result_light[:,2],\n",
    "                             'mean_light': result_light[:,3],\n",
    "                             'median_light': result_light[:,4],\n",
    "                             'std_light': result_light[:,5]})\n",
    "result_light['index'] = result_light['index'].astype(int)"
   ]
  },
  {
   "cell_type": "code",
   "execution_count": 69,
   "metadata": {},
   "outputs": [
    {
     "data": {
      "text/html": [
       "<div>\n",
       "<style scoped>\n",
       "    .dataframe tbody tr th:only-of-type {\n",
       "        vertical-align: middle;\n",
       "    }\n",
       "\n",
       "    .dataframe tbody tr th {\n",
       "        vertical-align: top;\n",
       "    }\n",
       "\n",
       "    .dataframe thead th {\n",
       "        text-align: right;\n",
       "    }\n",
       "</style>\n",
       "<table border=\"1\" class=\"dataframe\">\n",
       "  <thead>\n",
       "    <tr style=\"text-align: right;\">\n",
       "      <th></th>\n",
       "      <th>index</th>\n",
       "      <th>max_light</th>\n",
       "      <th>mean_light</th>\n",
       "      <th>median_light</th>\n",
       "      <th>min_light</th>\n",
       "      <th>std_light</th>\n",
       "    </tr>\n",
       "  </thead>\n",
       "  <tbody>\n",
       "    <tr>\n",
       "      <th>0</th>\n",
       "      <td>1</td>\n",
       "      <td>0.0</td>\n",
       "      <td>0.0</td>\n",
       "      <td>0.0</td>\n",
       "      <td>0.0</td>\n",
       "      <td>0.0</td>\n",
       "    </tr>\n",
       "    <tr>\n",
       "      <th>1</th>\n",
       "      <td>2</td>\n",
       "      <td>0.0</td>\n",
       "      <td>0.0</td>\n",
       "      <td>0.0</td>\n",
       "      <td>0.0</td>\n",
       "      <td>0.0</td>\n",
       "    </tr>\n",
       "    <tr>\n",
       "      <th>2</th>\n",
       "      <td>3</td>\n",
       "      <td>0.0</td>\n",
       "      <td>0.0</td>\n",
       "      <td>0.0</td>\n",
       "      <td>0.0</td>\n",
       "      <td>0.0</td>\n",
       "    </tr>\n",
       "    <tr>\n",
       "      <th>3</th>\n",
       "      <td>4</td>\n",
       "      <td>0.0</td>\n",
       "      <td>0.0</td>\n",
       "      <td>0.0</td>\n",
       "      <td>0.0</td>\n",
       "      <td>0.0</td>\n",
       "    </tr>\n",
       "    <tr>\n",
       "      <th>4</th>\n",
       "      <td>5</td>\n",
       "      <td>0.0</td>\n",
       "      <td>0.0</td>\n",
       "      <td>0.0</td>\n",
       "      <td>0.0</td>\n",
       "      <td>0.0</td>\n",
       "    </tr>\n",
       "  </tbody>\n",
       "</table>\n",
       "</div>"
      ],
      "text/plain": [
       "   index  max_light  mean_light  median_light  min_light  std_light\n",
       "0      1        0.0         0.0           0.0        0.0        0.0\n",
       "1      2        0.0         0.0           0.0        0.0        0.0\n",
       "2      3        0.0         0.0           0.0        0.0        0.0\n",
       "3      4        0.0         0.0           0.0        0.0        0.0\n",
       "4      5        0.0         0.0           0.0        0.0        0.0"
      ]
     },
     "execution_count": 69,
     "metadata": {},
     "output_type": "execute_result"
    }
   ],
   "source": [
    "result_light.head()"
   ]
  },
  {
   "cell_type": "code",
   "execution_count": 70,
   "metadata": {},
   "outputs": [
    {
     "data": {
      "text/html": [
       "<div>\n",
       "<style scoped>\n",
       "    .dataframe tbody tr th:only-of-type {\n",
       "        vertical-align: middle;\n",
       "    }\n",
       "\n",
       "    .dataframe tbody tr th {\n",
       "        vertical-align: top;\n",
       "    }\n",
       "\n",
       "    .dataframe thead th {\n",
       "        text-align: right;\n",
       "    }\n",
       "</style>\n",
       "<table border=\"1\" class=\"dataframe\">\n",
       "  <thead>\n",
       "    <tr style=\"text-align: right;\">\n",
       "      <th></th>\n",
       "      <th>cluster</th>\n",
       "      <th>latitude</th>\n",
       "      <th>longitude</th>\n",
       "      <th>wealth_index</th>\n",
       "    </tr>\n",
       "  </thead>\n",
       "  <tbody>\n",
       "    <tr>\n",
       "      <th>0</th>\n",
       "      <td>1</td>\n",
       "      <td>-2.532818</td>\n",
       "      <td>29.684726</td>\n",
       "      <td>-0.531405</td>\n",
       "    </tr>\n",
       "    <tr>\n",
       "      <th>1</th>\n",
       "      <td>2</td>\n",
       "      <td>-1.833858</td>\n",
       "      <td>30.310689</td>\n",
       "      <td>-0.409830</td>\n",
       "    </tr>\n",
       "    <tr>\n",
       "      <th>2</th>\n",
       "      <td>3</td>\n",
       "      <td>-1.888155</td>\n",
       "      <td>29.478298</td>\n",
       "      <td>-0.478115</td>\n",
       "    </tr>\n",
       "    <tr>\n",
       "      <th>3</th>\n",
       "      <td>4</td>\n",
       "      <td>-2.366763</td>\n",
       "      <td>30.521692</td>\n",
       "      <td>-0.435960</td>\n",
       "    </tr>\n",
       "    <tr>\n",
       "      <th>4</th>\n",
       "      <td>5</td>\n",
       "      <td>-2.171266</td>\n",
       "      <td>30.018541</td>\n",
       "      <td>-0.449480</td>\n",
       "    </tr>\n",
       "  </tbody>\n",
       "</table>\n",
       "</div>"
      ],
      "text/plain": [
       "   cluster  latitude  longitude  wealth_index\n",
       "0        1 -2.532818  29.684726     -0.531405\n",
       "1        2 -1.833858  30.310689     -0.409830\n",
       "2        3 -1.888155  29.478298     -0.478115\n",
       "3        4 -2.366763  30.521692     -0.435960\n",
       "4        5 -2.171266  30.018541     -0.449480"
      ]
     },
     "execution_count": 70,
     "metadata": {},
     "output_type": "execute_result"
    }
   ],
   "source": [
    "wealth_geo_merge.head()"
   ]
  },
  {
   "cell_type": "code",
   "execution_count": 77,
   "metadata": {},
   "outputs": [
    {
     "data": {
      "text/html": [
       "<div>\n",
       "<style scoped>\n",
       "    .dataframe tbody tr th:only-of-type {\n",
       "        vertical-align: middle;\n",
       "    }\n",
       "\n",
       "    .dataframe tbody tr th {\n",
       "        vertical-align: top;\n",
       "    }\n",
       "\n",
       "    .dataframe thead th {\n",
       "        text-align: right;\n",
       "    }\n",
       "</style>\n",
       "<table border=\"1\" class=\"dataframe\">\n",
       "  <thead>\n",
       "    <tr style=\"text-align: right;\">\n",
       "      <th></th>\n",
       "      <th>cluster</th>\n",
       "      <th>latitude</th>\n",
       "      <th>longitude</th>\n",
       "      <th>wealth_index</th>\n",
       "      <th>mean_light</th>\n",
       "      <th>median_light</th>\n",
       "      <th>std_light</th>\n",
       "      <th>min_light</th>\n",
       "      <th>max_light</th>\n",
       "    </tr>\n",
       "  </thead>\n",
       "  <tbody>\n",
       "    <tr>\n",
       "      <th>0</th>\n",
       "      <td>1</td>\n",
       "      <td>-2.532818</td>\n",
       "      <td>29.684726</td>\n",
       "      <td>-0.531405</td>\n",
       "      <td>0.0</td>\n",
       "      <td>0.0</td>\n",
       "      <td>0.0</td>\n",
       "      <td>0.0</td>\n",
       "      <td>0.0</td>\n",
       "    </tr>\n",
       "    <tr>\n",
       "      <th>1</th>\n",
       "      <td>2</td>\n",
       "      <td>-1.833858</td>\n",
       "      <td>30.310689</td>\n",
       "      <td>-0.409830</td>\n",
       "      <td>0.0</td>\n",
       "      <td>0.0</td>\n",
       "      <td>0.0</td>\n",
       "      <td>0.0</td>\n",
       "      <td>0.0</td>\n",
       "    </tr>\n",
       "    <tr>\n",
       "      <th>2</th>\n",
       "      <td>3</td>\n",
       "      <td>-1.888155</td>\n",
       "      <td>29.478298</td>\n",
       "      <td>-0.478115</td>\n",
       "      <td>0.0</td>\n",
       "      <td>0.0</td>\n",
       "      <td>0.0</td>\n",
       "      <td>0.0</td>\n",
       "      <td>0.0</td>\n",
       "    </tr>\n",
       "    <tr>\n",
       "      <th>3</th>\n",
       "      <td>4</td>\n",
       "      <td>-2.366763</td>\n",
       "      <td>30.521692</td>\n",
       "      <td>-0.435960</td>\n",
       "      <td>0.0</td>\n",
       "      <td>0.0</td>\n",
       "      <td>0.0</td>\n",
       "      <td>0.0</td>\n",
       "      <td>0.0</td>\n",
       "    </tr>\n",
       "    <tr>\n",
       "      <th>4</th>\n",
       "      <td>5</td>\n",
       "      <td>-2.171266</td>\n",
       "      <td>30.018541</td>\n",
       "      <td>-0.449480</td>\n",
       "      <td>0.0</td>\n",
       "      <td>0.0</td>\n",
       "      <td>0.0</td>\n",
       "      <td>0.0</td>\n",
       "      <td>0.0</td>\n",
       "    </tr>\n",
       "  </tbody>\n",
       "</table>\n",
       "</div>"
      ],
      "text/plain": [
       "   cluster  latitude  longitude  wealth_index  mean_light  median_light  \\\n",
       "0        1 -2.532818  29.684726     -0.531405         0.0           0.0   \n",
       "1        2 -1.833858  30.310689     -0.409830         0.0           0.0   \n",
       "2        3 -1.888155  29.478298     -0.478115         0.0           0.0   \n",
       "3        4 -2.366763  30.521692     -0.435960         0.0           0.0   \n",
       "4        5 -2.171266  30.018541     -0.449480         0.0           0.0   \n",
       "\n",
       "   std_light  min_light  max_light  \n",
       "0        0.0        0.0        0.0  \n",
       "1        0.0        0.0        0.0  \n",
       "2        0.0        0.0        0.0  \n",
       "3        0.0        0.0        0.0  \n",
       "4        0.0        0.0        0.0  "
      ]
     },
     "execution_count": 77,
     "metadata": {},
     "output_type": "execute_result"
    }
   ],
   "source": [
    "wealth_geo_light_merge = pd.merge(wealth_geo_merge, result_light, how='inner', left_on='cluster', right_on='index')[['cluster', 'latitude', 'longitude', 'wealth_index', 'mean_light', 'median_light', 'std_light', 'min_light', 'max_light']]\n",
    "wealth_geo_light_merge.head()"
   ]
  },
  {
   "cell_type": "code",
   "execution_count": 82,
   "metadata": {},
   "outputs": [],
   "source": [
    "wealth_geo_light_merge.to_csv('./data/rwanda')"
   ]
  },
  {
   "cell_type": "code",
   "execution_count": 84,
   "metadata": {},
   "outputs": [
    {
     "data": {
      "text/html": [
       "<div>\n",
       "<style scoped>\n",
       "    .dataframe tbody tr th:only-of-type {\n",
       "        vertical-align: middle;\n",
       "    }\n",
       "\n",
       "    .dataframe tbody tr th {\n",
       "        vertical-align: top;\n",
       "    }\n",
       "\n",
       "    .dataframe thead th {\n",
       "        text-align: right;\n",
       "    }\n",
       "</style>\n",
       "<table border=\"1\" class=\"dataframe\">\n",
       "  <thead>\n",
       "    <tr style=\"text-align: right;\">\n",
       "      <th></th>\n",
       "      <th>Unnamed: 0</th>\n",
       "      <th>cluster</th>\n",
       "      <th>latitude</th>\n",
       "      <th>longitude</th>\n",
       "      <th>wealth_index</th>\n",
       "      <th>mean_light</th>\n",
       "      <th>median_light</th>\n",
       "      <th>std_light</th>\n",
       "      <th>min_light</th>\n",
       "      <th>max_light</th>\n",
       "    </tr>\n",
       "  </thead>\n",
       "  <tbody>\n",
       "    <tr>\n",
       "      <th>0</th>\n",
       "      <td>0</td>\n",
       "      <td>1</td>\n",
       "      <td>-2.532818</td>\n",
       "      <td>29.684726</td>\n",
       "      <td>-0.531405</td>\n",
       "      <td>0.0</td>\n",
       "      <td>0.0</td>\n",
       "      <td>0.0</td>\n",
       "      <td>0.0</td>\n",
       "      <td>0.0</td>\n",
       "    </tr>\n",
       "    <tr>\n",
       "      <th>1</th>\n",
       "      <td>1</td>\n",
       "      <td>2</td>\n",
       "      <td>-1.833858</td>\n",
       "      <td>30.310689</td>\n",
       "      <td>-0.409830</td>\n",
       "      <td>0.0</td>\n",
       "      <td>0.0</td>\n",
       "      <td>0.0</td>\n",
       "      <td>0.0</td>\n",
       "      <td>0.0</td>\n",
       "    </tr>\n",
       "    <tr>\n",
       "      <th>2</th>\n",
       "      <td>2</td>\n",
       "      <td>3</td>\n",
       "      <td>-1.888155</td>\n",
       "      <td>29.478298</td>\n",
       "      <td>-0.478115</td>\n",
       "      <td>0.0</td>\n",
       "      <td>0.0</td>\n",
       "      <td>0.0</td>\n",
       "      <td>0.0</td>\n",
       "      <td>0.0</td>\n",
       "    </tr>\n",
       "    <tr>\n",
       "      <th>3</th>\n",
       "      <td>3</td>\n",
       "      <td>4</td>\n",
       "      <td>-2.366763</td>\n",
       "      <td>30.521692</td>\n",
       "      <td>-0.435960</td>\n",
       "      <td>0.0</td>\n",
       "      <td>0.0</td>\n",
       "      <td>0.0</td>\n",
       "      <td>0.0</td>\n",
       "      <td>0.0</td>\n",
       "    </tr>\n",
       "    <tr>\n",
       "      <th>4</th>\n",
       "      <td>4</td>\n",
       "      <td>5</td>\n",
       "      <td>-2.171266</td>\n",
       "      <td>30.018541</td>\n",
       "      <td>-0.449480</td>\n",
       "      <td>0.0</td>\n",
       "      <td>0.0</td>\n",
       "      <td>0.0</td>\n",
       "      <td>0.0</td>\n",
       "      <td>0.0</td>\n",
       "    </tr>\n",
       "  </tbody>\n",
       "</table>\n",
       "</div>"
      ],
      "text/plain": [
       "   Unnamed: 0  cluster  latitude  longitude  wealth_index  mean_light  \\\n",
       "0           0        1 -2.532818  29.684726     -0.531405         0.0   \n",
       "1           1        2 -1.833858  30.310689     -0.409830         0.0   \n",
       "2           2        3 -1.888155  29.478298     -0.478115         0.0   \n",
       "3           3        4 -2.366763  30.521692     -0.435960         0.0   \n",
       "4           4        5 -2.171266  30.018541     -0.449480         0.0   \n",
       "\n",
       "   median_light  std_light  min_light  max_light  \n",
       "0           0.0        0.0        0.0        0.0  \n",
       "1           0.0        0.0        0.0        0.0  \n",
       "2           0.0        0.0        0.0        0.0  \n",
       "3           0.0        0.0        0.0        0.0  \n",
       "4           0.0        0.0        0.0        0.0  "
      ]
     },
     "execution_count": 84,
     "metadata": {},
     "output_type": "execute_result"
    }
   ],
   "source": [
    "df_rwanda = pd.read_csv('./data/rwanda')\n",
    "df_rwanda.head()"
   ]
  },
  {
   "cell_type": "markdown",
   "metadata": {},
   "source": [
    "## 5) Try to predict wealth thanks to nightlights intensities"
   ]
  },
  {
   "cell_type": "markdown",
   "metadata": {},
   "source": [
    "## 6) Download daytime images"
   ]
  },
  {
   "cell_type": "markdown",
   "metadata": {},
   "source": [
    "## 7) Merge wealth, geographical, nightlights intensities and daytime images data"
   ]
  },
  {
   "cell_type": "markdown",
   "metadata": {},
   "source": [
    "## 8) Try to predict wealth thanks to deep features from daytime images"
   ]
  },
  {
   "cell_type": "markdown",
   "metadata": {},
   "source": [
    "## 11) Retrain CNN by predicting nightlights intensities thanks to daytime images"
   ]
  },
  {
   "cell_type": "markdown",
   "metadata": {},
   "source": [
    "## 12) Try to predict wealth thanks to new deep features from daytime images"
   ]
  },
  {
   "cell_type": "markdown",
   "metadata": {},
   "source": [
    "## 13) Implement gaussian processes combined with neural networks"
   ]
  },
  {
   "cell_type": "markdown",
   "metadata": {},
   "source": [
    "## 14) Try to predict wealth thanks to deep kernel learning"
   ]
  },
  {
   "cell_type": "markdown",
   "metadata": {},
   "source": [
    "## 15) Display result on a real map of African countries"
   ]
  },
  {
   "cell_type": "code",
   "execution_count": null,
   "metadata": {},
   "outputs": [],
   "source": []
  }
 ],
 "metadata": {
  "kernelspec": {
   "display_name": "Python3.5 Predict-poverty",
   "language": "python",
   "name": "predict-poverty"
  },
  "language_info": {
   "codemirror_mode": {
    "name": "ipython",
    "version": 3
   },
   "file_extension": ".py",
   "mimetype": "text/x-python",
   "name": "python",
   "nbconvert_exporter": "python",
   "pygments_lexer": "ipython3",
   "version": "3.5.6"
  }
 },
 "nbformat": 4,
 "nbformat_minor": 2
}
