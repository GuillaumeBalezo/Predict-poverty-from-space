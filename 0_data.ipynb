{
 "cells": [
  {
   "cell_type": "markdown",
   "metadata": {},
   "source": [
    "# Predict poverty from space"
   ]
  },
  {
   "cell_type": "markdown",
   "metadata": {},
   "source": [
    "Folder organization :\n",
    "\n",
    "* LICENSE  \n",
    "* README.md\n",
    "* Gaussian_Process.ipynb\n",
    "* 0_data.ipynb\n",
    "* data/ \n",
    "    *    daytime_images/  \n",
    "    *    nightlights_intensities/  \n",
    "        * F182010.v4d_web.stable_lights.avg_vis.tif  \n",
    "    *    surveys/\n",
    "        * DHS/\n",
    "            * Rwanda_2010/\n",
    "                * RWGE61FL.dbf\n",
    "                * RWHR61FL.DTA\n",
    "            * ...\n",
    "        * LSMS-ISA/\n",
    "            * ...\n",
    "* models/\n",
    "* papers/"
   ]
  },
  {
   "cell_type": "code",
   "execution_count": 1,
   "metadata": {},
   "outputs": [
    {
     "name": "stdout",
     "output_type": "stream",
     "text": [
      "PyTables is not installed. No support for HDF output.\n",
      "SQLalchemy is not installed. No support for SQL output.\n"
     ]
    }
   ],
   "source": [
    "import pandas as pd\n",
    "import numpy as np\n",
    "from simpledbf import Dbf5"
   ]
  },
  {
   "cell_type": "code",
   "execution_count": 2,
   "metadata": {},
   "outputs": [],
   "source": [
    "wealth_file = \"./data/surveys/DHS/Rwanda_2010/RWHR61FL.DTA\"\n",
    "geo_file = \"./data/surveys/DHS/Rwanda_2010/RWGE61FL.dbf\""
   ]
  },
  {
   "cell_type": "markdown",
   "metadata": {},
   "source": [
    "## 1) Import wealth data"
   ]
  },
  {
   "cell_type": "markdown",
   "metadata": {},
   "source": [
    "Le premier fichier (RWHR61FL.DTA) contient les résultats des sondages. Deux colonnes nous intéressent plus particulièrement : HV001 est un identifiant qui fait le lien avec les données géographiques et HV271 contient un indice de richesse de la région."
   ]
  },
  {
   "cell_type": "code",
   "execution_count": 3,
   "metadata": {},
   "outputs": [],
   "source": [
    "df_wealth = pd.read_stata(wealth_file)"
   ]
  },
  {
   "cell_type": "code",
   "execution_count": 4,
   "metadata": {},
   "outputs": [
    {
     "name": "stdout",
     "output_type": "stream",
     "text": [
      "Index(['hv001', 'hv271'], dtype='object')\n"
     ]
    }
   ],
   "source": [
    "result = df_wealth.groupby('hv001')['hv271'].median().reset_index()\n",
    "result['hv271'] /= 100000.\n",
    "print(result.columns)"
   ]
  },
  {
   "cell_type": "markdown",
   "metadata": {},
   "source": [
    "## 2) Import geographical data"
   ]
  },
  {
   "cell_type": "markdown",
   "metadata": {},
   "source": [
    "Le second fichier contient les coordonnées géographiques des sondages. Nous nous intéressons notamment à la colonne DHSCLUST qui fait le lien avec les clusters du fichier précédent ainsi qu'aux colonnes LATNUM et LONGNUM qui nous permettront d'obtenir l'intensité lumineuse de ces zones géographiques ainsi que les images satellites de jour."
   ]
  },
  {
   "cell_type": "code",
   "execution_count": 5,
   "metadata": {},
   "outputs": [],
   "source": [
    "dbf = Dbf5(geo_file)"
   ]
  },
  {
   "cell_type": "code",
   "execution_count": 6,
   "metadata": {},
   "outputs": [],
   "source": [
    "df_geo = dbf.to_dataframe()"
   ]
  },
  {
   "cell_type": "code",
   "execution_count": 8,
   "metadata": {},
   "outputs": [
    {
     "name": "stdout",
     "output_type": "stream",
     "text": [
      "Index(['DHSCLUST', 'LATNUM', 'LONGNUM'], dtype='object')\n"
     ]
    },
    {
     "name": "stderr",
     "output_type": "stream",
     "text": [
      "/home/ridouane/anaconda3/envs/Predict-poverty/lib/python3.5/site-packages/ipykernel_launcher.py:2: SettingWithCopyWarning: \n",
      "A value is trying to be set on a copy of a slice from a DataFrame.\n",
      "Try using .loc[row_indexer,col_indexer] = value instead\n",
      "\n",
      "See the caveats in the documentation: http://pandas.pydata.org/pandas-docs/stable/indexing.html#indexing-view-versus-copy\n",
      "  \n"
     ]
    }
   ],
   "source": [
    "result2 = df_geo[['DHSCLUST', 'LATNUM', 'LONGNUM']]\n",
    "result2['DHSCLUST'] = result2['DHSCLUST'].astype(int)\n",
    "print(result2.columns)"
   ]
  },
  {
   "cell_type": "markdown",
   "metadata": {},
   "source": [
    "## 3) Merge wealth and geographical data"
   ]
  },
  {
   "cell_type": "markdown",
   "metadata": {},
   "source": [
    "L'objectif de cette section est d'obtenir un tableau de données dans lequel on a l'indice de richesse en fonction des coordonnées géographiques."
   ]
  },
  {
   "cell_type": "code",
   "execution_count": 9,
   "metadata": {},
   "outputs": [
    {
     "name": "stdout",
     "output_type": "stream",
     "text": [
      "Index(['DHSCLUST', 'LATNUM', 'LONGNUM', 'hv271'], dtype='object')\n"
     ]
    }
   ],
   "source": [
    "final_result = pd.merge(result, result2, how='inner', left_on='hv001', right_on='DHSCLUST')[['DHSCLUST', 'LATNUM', 'LONGNUM', 'hv271']]\n",
    "print(final_result.columns)"
   ]
  },
  {
   "cell_type": "code",
   "execution_count": 10,
   "metadata": {},
   "outputs": [],
   "source": [
    "final_result = final_result.rename(columns={'DHSCLUST': 'cluster', 'LATNUM': 'latitude', 'LONGNUM': 'longitude', 'hv271': 'wealth_index'})"
   ]
  },
  {
   "cell_type": "code",
   "execution_count": 83,
   "metadata": {},
   "outputs": [
    {
     "name": "stdout",
     "output_type": "stream",
     "text": [
      "Index(['cluster', 'latitude', 'longitude', 'wealth_index'], dtype='object')\n"
     ]
    }
   ],
   "source": [
    "print(final_result.columns)"
   ]
  },
  {
   "cell_type": "markdown",
   "metadata": {},
   "source": [
    "## 4) Import nightlights intensities data"
   ]
  },
  {
   "cell_type": "code",
   "execution_count": 12,
   "metadata": {},
   "outputs": [],
   "source": [
    "night_file = './data/nightlights_intensities/F182010.v4d_web.stable_lights.avg_vis.tif'"
   ]
  },
  {
   "cell_type": "code",
   "execution_count": 13,
   "metadata": {},
   "outputs": [],
   "source": [
    "from osgeo import gdal, ogr, osr"
   ]
  },
  {
   "cell_type": "code",
   "execution_count": 14,
   "metadata": {},
   "outputs": [
    {
     "name": "stdout",
     "output_type": "stream",
     "text": [
      "<class 'osgeo.gdal.Dataset'>\n"
     ]
    }
   ],
   "source": [
    "dataset = gdal.Open(night_file, gdal.GA_ReadOnly)\n",
    "print(type(dataset))"
   ]
  },
  {
   "cell_type": "code",
   "execution_count": 21,
   "metadata": {},
   "outputs": [
    {
     "name": "stdout",
     "output_type": "stream",
     "text": [
      "Driver: GTiff/GeoTIFF\n",
      "Size is 43201 x 16801 x 1\n",
      "Projection is GEOGCS[\"WGS 84\",DATUM[\"WGS_1984\",SPHEROID[\"WGS 84\",6378137,298.257223563,AUTHORITY[\"EPSG\",\"7030\"]],AUTHORITY[\"EPSG\",\"6326\"]],PRIMEM[\"Greenwich\",0],UNIT[\"degree\",0.0174532925199433],AUTHORITY[\"EPSG\",\"4326\"]]\n",
      "-180.00416666665 0.0083333333 0.0 75.00416666665 0.0 -0.0083333333\n",
      "Origin = (-180.00416666665, 75.00416666665)\n",
      "Pixel Size = (0.0083333333, -0.0083333333)\n"
     ]
    }
   ],
   "source": [
    "print(\"Driver: {}/{}\".format(dataset.GetDriver().ShortName,\n",
    "                             dataset.GetDriver().LongName))\n",
    "print(\"Size is {} x {} x {}\".format(dataset.RasterXSize,\n",
    "                                    dataset.RasterYSize,\n",
    "                                    dataset.RasterCount))\n",
    "print(\"Projection is {}\".format(dataset.GetProjection()))\n",
    "(upper_left_x, x_size, x_rotation, upper_left_y, y_rotation, y_size) = dataset.GetGeoTransform()\n",
    "print(upper_left_x, x_size, x_rotation, upper_left_y, y_rotation, y_size)\n",
    "if geotransform:\n",
    "    print(\"Origin = ({}, {})\".format(upper_left_x, upper_left_y))\n",
    "    print(\"Pixel Size = ({}, {})\".format(x_size, y_size))"
   ]
  },
  {
   "cell_type": "code",
   "execution_count": 16,
   "metadata": {},
   "outputs": [
    {
     "name": "stdout",
     "output_type": "stream",
     "text": [
      "Band Type=Byte\n",
      "Min=0.000, Max=63.000\n"
     ]
    }
   ],
   "source": [
    "band = dataset.GetRasterBand(1)\n",
    "print(\"Band Type={}\".format(gdal.GetDataTypeName(band.DataType)))\n",
    "      \n",
    "min = band.GetMinimum()\n",
    "max = band.GetMaximum()\n",
    "if not min or not max:\n",
    "    (min,max) = band.ComputeRasterMinMax(True)\n",
    "print(\"Min={:.3f}, Max={:.3f}\".format(min,max))\n",
    "      \n",
    "if band.GetOverviewCount() > 0:\n",
    "    print(\"Band has {} overviews\".format(band.GetOverviewCount()))\n",
    "      \n",
    "if band.GetRasterColorTable():\n",
    "    print(\"Band has a color table with {} entries\".format(band.GetRasterColorTable().GetCount()))"
   ]
  },
  {
   "cell_type": "code",
   "execution_count": 18,
   "metadata": {},
   "outputs": [
    {
     "name": "stdout",
     "output_type": "stream",
     "text": [
      "0.6435769258995662\n",
      "16801 43201\n"
     ]
    }
   ],
   "source": [
    "band = dataset.GetRasterBand(1)\n",
    "band_array = band.ReadAsArray()\n",
    "print(band_array.mean())\n",
    "rows, cols = np.shape(band_array)\n",
    "print(rows, cols)"
   ]
  },
  {
   "cell_type": "code",
   "execution_count": 28,
   "metadata": {},
   "outputs": [],
   "source": [
    "x_size = 1.0 / int(round(1 / float(x_size)))\n",
    "y_size = - x_size\n",
    "y_index = np.arange(band_array.shape[0])\n",
    "x_index = np.arange(band_array.shape[1])\n",
    "top_left_x_coords = upper_left_x + x_index * x_size\n",
    "top_left_y_coords = upper_left_y + y_index * y_size\n",
    "centroid_x_coords = top_left_x_coords + (x_size / 2)\n",
    "centroid_y_coords = top_left_y_coords + (y_size / 2)"
   ]
  },
  {
   "cell_type": "code",
   "execution_count": 97,
   "metadata": {},
   "outputs": [],
   "source": [
    "def get_cell_idx(lon, lat, top_left_x_coords, top_left_y_coords):\n",
    "    lon_idx = np.where(top_left_x_coords < lon)[0][-1]\n",
    "    lat_idx = np.where(top_left_y_coords > lat)[0][-1]\n",
    "    return lon_idx, lat_idx\n",
    "\n",
    "def get_nightlight_feature(sample):\n",
    "    ind, wealth_ind, x, y = sample\n",
    "    lon_idx, lat_idx = get_cell_idx(x, y, top_left_x_coords, top_left_y_coords)\n",
    "    # Select the 10 * 10 pixels\n",
    "    left_idx = lon_idx - 5\n",
    "    right_idx = lon_idx + 4\n",
    "    up_idx = lat_idx - 5\n",
    "    low_idx = lat_idx + 4\n",
    "    luminosity_100 = []\n",
    "    for i in range(left_idx, right_idx + 1):\n",
    "        for j in range(up_idx, low_idx + 1):\n",
    "            # Get the luminosity of this pixel\n",
    "            luminosity = band_array[j, i]\n",
    "            luminosity_100.append(luminosity)\n",
    "    luminosity_100 = np.asarray(luminosity_100)\n",
    "    max_ = np.max(luminosity_100)\n",
    "    min_ = np.min(luminosity_100)\n",
    "    mean_ = np.mean(luminosity_100)\n",
    "    median_ = np.median(luminosity_100)\n",
    "    std_ = np.std(luminosity_100)\n",
    "    return ind, wealth_ind, x, y, max_, min_, mean_, median_, std_"
   ]
  },
  {
   "cell_type": "code",
   "execution_count": 81,
   "metadata": {},
   "outputs": [
    {
     "name": "stdout",
     "output_type": "stream",
     "text": [
      "25162 9304\n",
      "[0 0 0 0 0 0 0 0 0 0 0 0 0 0 0 0 0 0 0 0 0 0 0 0 0 0 0 0 0 0 0 0 0 0 0 0 0\n",
      " 0 0 0 0 0 0 0 0 0 0 0 0 0 0 0 0 0 0 0 0 0 0 0 0 0 0 0 0 0 0 0 0 0 0 0 0 0\n",
      " 0 0 0 0 0 0 0 0 0 0 0 0 0 0 0 0 0 0 0 0 0 0 0 0 0 6]\n",
      "(6, 0, 0.06, 0.0, 0.5969924622639721)\n"
     ]
    }
   ],
   "source": [
    "sample = 29.684726, -2.532818\n",
    "print(get_nightlight_feature((sample)))"
   ]
  },
  {
   "cell_type": "code",
   "execution_count": 82,
   "metadata": {},
   "outputs": [
    {
     "name": "stdout",
     "output_type": "stream",
     "text": [
      "9558 25157\n"
     ]
    }
   ],
   "source": [
    "x = int((-2.532818+180-75)*16800/180) - 5\n",
    "y = int((29.684726+360-180)*43200/360) - 5\n",
    "print(x, y)\n",
    "#x = 9304\n",
    "#y = 25162\n",
    "res = band_array[9304, 25162]\n",
    "for i in range(x-5, x+5):\n",
    "    for j in range(y-5, y+5):\n",
    "        res = band_array[i, j]"
   ]
  },
  {
   "cell_type": "code",
   "execution_count": 103,
   "metadata": {},
   "outputs": [],
   "source": [
    "for lat, long in final_result[['latitude', 'longitude']].values:\n",
    "    sample = 1, 2, lat, long\n",
    "    ind, wealth, lt, lg, max_, min_, mean_, median_, std_ = get_nightlight_feature((sample))"
   ]
  },
  {
   "cell_type": "code",
   "execution_count": 108,
   "metadata": {},
   "outputs": [],
   "source": [
    "dataset_night = final_result.apply(lambda x: get_nightlight_feature([x['cluster'], x['wealth_index'], \n",
    "                                                                     x['longitude'], x['latitude']]), axis=1)"
   ]
  },
  {
   "cell_type": "code",
   "execution_count": 109,
   "metadata": {},
   "outputs": [
    {
     "name": "stdout",
     "output_type": "stream",
     "text": [
      "0      (1.0, -0.531405, 29.684726, -2.532818, 6, 0, 0...\n",
      "1      (2.0, -0.40983, 30.310689, -1.833858, 0, 0, 0....\n",
      "2      (3.0, -0.478115, 29.478298, -1.888155, 0, 0, 0...\n",
      "3      (4.0, -0.43596, 30.521692, -2.366763, 0, 0, 0....\n",
      "4      (5.0, -0.44948, 30.018541, -2.171266, 0, 0, 0....\n",
      "5      (6.0, -0.11265, 30.114591, -2.036917, 26, 0, 6...\n",
      "6      (7.0, -0.39962, 29.799135, -1.768636, 0, 0, 0....\n",
      "7      (8.0, -0.19558, 29.967649, -1.769425, 0, 0, 0....\n",
      "8      (9.0, 2.39554, 30.111135, -1.974834, 62, 7, 36...\n",
      "9      (10.0, 0.05646, 30.310015, -2.038221, 0, 0, 0....\n",
      "10     (11.0, -0.233975, 30.651838, -2.021018, 0, 0, ...\n",
      "11     (12.0, -0.45845, 29.921206, -2.212707, 0, 0, 0...\n",
      "12     (13.0, -0.643445, 29.413435, -2.22724, 0, 0, 0...\n",
      "13     (14.0, -0.50153, 29.512758, -1.912341, 0, 0, 0...\n",
      "14     (15.0, -0.49069, 29.631617, -1.997883, 0, 0, 0...\n",
      "15     (16.0, -0.54898, 30.824889, -2.072847, 0, 0, 0...\n",
      "16     (17.0, -0.41252, 29.813837, -2.116178, 7, 0, 0...\n",
      "17     (18.0, -0.41903, 29.555812, -1.719926, 0, 0, 0...\n",
      "18     (19.0, -0.38006, 30.012104, -2.193395, 0, 0, 0...\n",
      "19     (20.0, -0.46062, 29.704832, -2.372858, 8, 0, 0...\n",
      "20     (21.0, -0.266005, 29.290962, -2.191645, 0, 0, ...\n",
      "21     (22.0, -0.275315, 29.815544, -2.267461, 6, 0, ...\n",
      "22     (23.0, 3.14126, 30.124576, -1.984298, 62, 0, 2...\n",
      "23     (24.0, -0.4128, 29.322453, -1.640578, 6, 0, 0....\n",
      "24     (25.0, -0.39372, 29.73784, -1.41364, 0, 0, 0.0...\n",
      "25     (26.0, 0.08756, 30.414937, -1.355377, 0, 0, 0....\n",
      "26     (27.0, -0.53943, 29.35863, -1.670937, 0, 0, 0....\n",
      "27     (28.0, -0.49357, 29.618431, -1.64984, 0, 0, 0....\n",
      "28     (29.0, 2.215415, 30.056542, -1.957099, 62, 10,...\n",
      "29     (30.0, -0.385275, 30.391795, -1.65317, 0, 0, 0...\n",
      "                             ...                        \n",
      "462    (463.0, -0.40975, 29.392258, -2.187308, 0, 0, ...\n",
      "463    (464.0, -0.316415, 30.05054, -1.853775, 14, 0,...\n",
      "464    (465.0, -0.50576, 29.587154, -2.075093, 0, 0, ...\n",
      "465    (466.0, -0.10028, 30.60644, -1.964067, 0, 0, 0...\n",
      "466    (467.0, 0.12371, 30.51851, -2.203129, 7, 0, 0....\n",
      "467    (468.0, -0.572355, 29.547916, -2.433123, 7, 0,...\n",
      "468    (469.0, -0.42667, 29.337824, -1.658179, 0, 0, ...\n",
      "469    (470.0, -0.45228, 29.546921, -2.709279, 0, 0, ...\n",
      "470    (471.0, -0.602765, 29.641229, -2.461804, 0, 0,...\n",
      "471    (472.0, -0.07872, 30.738608, -2.09527, 0, 0, 0...\n",
      "472    (473.0, -0.180235, 29.842916, -2.425081, 0, 0,...\n",
      "473    (474.0, -0.519535, 29.801989, -2.026905, 6, 0,...\n",
      "474    (475.0, -0.413445, 29.745352, -1.584633, 0, 0,...\n",
      "475    (476.0, -0.44463, 29.67574, -1.430599, 6, 0, 0...\n",
      "476    (477.0, -0.04091, 30.141162, -1.95007, 61, 0, ...\n",
      "477    (478.0, -0.39664, 30.080022, -2.312788, 0, 0, ...\n",
      "478    (479.0, -0.649635, 29.842978, -2.599329, 0, 0,...\n",
      "479    (480.0, -0.41096, 29.608849, -1.467539, 11, 0,...\n",
      "480    (481.0, 2.432185, 30.140415, -1.979686, 61, 0,...\n",
      "481    (482.0, -0.25738, 30.366519, -1.744176, 0, 0, ...\n",
      "482    (483.0, -0.369555, 30.307225, -1.643778, 0, 0,...\n",
      "483    (484.0, -0.565495, 30.291257, -1.688078, 0, 0,...\n",
      "484    (485.0, -0.29723, 30.699, -2.343529, 0, 0, 0.0...\n",
      "485    (486.0, -0.14447, 30.288211, -2.336048, 0, 0, ...\n",
      "486    (487.0, -0.38767, 29.405355, -2.084839, 0, 0, ...\n",
      "487    (488.0, -0.52431, 29.451722, -2.389778, 0, 0, ...\n",
      "488    (489.0, -0.388025, 30.348895, -2.144317, 0, 0,...\n",
      "489    (490.0, 0.32809, 30.441541, -1.96783, 8, 0, 2....\n",
      "490    (491.0, -0.27855, 30.063765, -1.441294, 0, 0, ...\n",
      "491    (492.0, -0.31016, 29.694921, -2.019624, 0, 0, ...\n",
      "Length: 492, dtype: object\n"
     ]
    }
   ],
   "source": [
    "def example(x):\n",
    "    x['p1'] = x['num']**2\n",
    "    x['p2'] = x['num']**3\n",
    "    x['p3'] = x['num']**4\n",
    "    return x\n",
    "\n",
    "def get_nightlight_feature(df):\n",
    "    ind, wealth_ind, x, y = sample\n",
    "    lon_idx, lat_idx = get_cell_idx(x, y, top_left_x_coords, top_left_y_coords)\n",
    "    \n",
    "    # Select the 10 * 10 pixels\n",
    "    left_idx = lon_idx - 5\n",
    "    right_idx = lon_idx + 4\n",
    "    up_idx = lat_idx - 5\n",
    "    low_idx = lat_idx + 4\n",
    "    \n",
    "    luminosity_100 = []\n",
    "    for i in range(left_idx, right_idx + 1):\n",
    "        for j in range(up_idx, low_idx + 1):\n",
    "            # Get the luminosity of this pixel\n",
    "            luminosity = band_array[j, i]\n",
    "            luminosity_100.append(luminosity)\n",
    "    luminosity_100 = np.asarray(luminosity_100)\n",
    "    \n",
    "    max_ = np.max(luminosity_100)\n",
    "    min_ = np.min(luminosity_100)\n",
    "    mean_ = np.mean(luminosity_100)\n",
    "    median_ = np.median(luminosity_100)\n",
    "    std_ = np.std(luminosity_100)\n",
    "    \n",
    "    x['max'] = max_\n",
    "    x['min'] = min_\n",
    "    x['mean'] = mean_\n",
    "    x['median'] = median_\n",
    "    x['std'] = std_\n",
    "    return x\n",
    "\n",
    "dataset_night = final_result.apply(get_nightlight_feature, axis=1)"
   ]
  },
  {
   "cell_type": "markdown",
   "metadata": {},
   "source": [
    "## 5) Merge wealth, geographical and nightlights intensities data"
   ]
  },
  {
   "cell_type": "markdown",
   "metadata": {},
   "source": [
    "L'objectif de cette partie est d'obtenir un tableau de données dans lequel on a, pour chaque région données par ses coordonnées, l'indice de richesse et l'indice de luminosité."
   ]
  },
  {
   "cell_type": "markdown",
   "metadata": {},
   "source": [
    "## 6) Try to predict wealth thanks to nightlights intensities"
   ]
  },
  {
   "cell_type": "markdown",
   "metadata": {},
   "source": [
    "## 7) Download daytime images"
   ]
  },
  {
   "cell_type": "markdown",
   "metadata": {},
   "source": [
    "## 8) Merge wealth, geographical, nightlights intensities and daytime images data"
   ]
  },
  {
   "cell_type": "markdown",
   "metadata": {},
   "source": [
    "## 9) Try to predict wealth thanks to deep features from daytime images"
   ]
  },
  {
   "cell_type": "markdown",
   "metadata": {},
   "source": [
    "## 10) Retrain VGG by predicting nightlights intensities thanks to daytime images"
   ]
  },
  {
   "cell_type": "markdown",
   "metadata": {},
   "source": [
    "## 11) Try to predict wealth thanks to new deep features from daytime images"
   ]
  },
  {
   "cell_type": "code",
   "execution_count": null,
   "metadata": {},
   "outputs": [],
   "source": []
  }
 ],
 "metadata": {
  "kernelspec": {
   "display_name": "Python3.5 Predict-poverty",
   "language": "python",
   "name": "predict-poverty"
  },
  "language_info": {
   "codemirror_mode": {
    "name": "ipython",
    "version": 3
   },
   "file_extension": ".py",
   "mimetype": "text/x-python",
   "name": "python",
   "nbconvert_exporter": "python",
   "pygments_lexer": "ipython3",
   "version": "3.5.6"
  }
 },
 "nbformat": 4,
 "nbformat_minor": 2
}
